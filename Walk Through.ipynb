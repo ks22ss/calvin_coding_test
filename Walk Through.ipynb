{
 "cells": [
  {
   "cell_type": "markdown",
   "id": "18def150",
   "metadata": {},
   "source": [
    "Problems"
   ]
  },
  {
   "cell_type": "markdown",
   "id": "d19bae97",
   "metadata": {},
   "source": [
    "The task is to create a python script, real time getting data feed from any crypto options exchange eg. Deribit, Delta, Bit.com, etc. (choose 1 is ok), and to come up with a Quadratic Equation on the volatility curve of both call & put.\n",
    "\n",
    "For example, here is an option chain snapshot from the crypto options exchange Deribit.\n",
    "\n",
    "Contract month: 24 Jun 2022\n",
    "Underlying: BTC\n",
    "Input: Mark IV of different strikes of both call & put (including OTM, ATM, ITM)\n",
    "Re-fitting frequency: 1 or 5 min (up to you)\n",
    "\n",
    "Steps:\n",
    "Read API documents on Deribit\n",
    "Get the mark IV of different strikes of 24 Jun contract, for both call & put\n",
    "Use those mark IV to generate a quadratic equation\n",
    "Print the equation every 1 / 5 min\n",
    "\n",
    "Outcome:\n",
    "1. A python script (in .py format) that can print the above-mentioned equation in real time\n",
    "\n"
   ]
  },
  {
   "cell_type": "code",
   "execution_count": 57,
   "id": "0e63606c",
   "metadata": {},
   "outputs": [],
   "source": [
    "import time\n",
    "import numpy as np\n",
    "import pandas as pd\n",
    "import matplotlib.pyplot as plt\n",
    "import requests\n",
    "import datetime\n",
    "from sklearn.metrics import r2_score\n",
    "\n",
    "# Helper Function\n",
    "def unix_to_date_str(unix_timestamp):\n",
    "    return datetime.datetime.utcfromtimestamp(unix_timestamp/1000).strftime('%Y-%m-%d')"
   ]
  },
  {
   "cell_type": "code",
   "execution_count": 2,
   "id": "1325ddd4",
   "metadata": {},
   "outputs": [],
   "source": [
    "EXCHANGE_URL = \"https://www.deribit.com/api/v2/public\"\n",
    "INSTRUMENTS_END_POINT = \"/get_instruments\"\n",
    "ORDER_BOOK_END_POINT = \"/get_order_book_by_instrument_id\"\n",
    "CURRENCY = \"BTC\"\n",
    "KIND = \"option\"\n",
    "CONTRACT_MONTH = \"2022-06-24\"\n",
    "\n",
    "payloads = {\"currency\": CURRENCY, \"kind\": KIND }\n",
    "res = requests.get(f\"{EXCHANGE_URL}{INSTRUMENTS_END_POINT}\",params=payloads)\n",
    "option_list = res.json()['result']"
   ]
  },
  {
   "cell_type": "code",
   "execution_count": 3,
   "id": "90540bd3",
   "metadata": {},
   "outputs": [],
   "source": [
    "#Step 1: Filter by Contract Month\n",
    "relevant_options = [option for option in option_list if unix_to_date_str(option['expiration_timestamp']) == CONTRACT_MONTH]"
   ]
  },
  {
   "cell_type": "code",
   "execution_count": 5,
   "id": "d7f751a3",
   "metadata": {},
   "outputs": [
    {
     "name": "stdout",
     "output_type": "stream",
     "text": [
      "count: 0\n",
      "count: 5\n",
      "count: 10\n",
      "count: 15\n",
      "count: 20\n",
      "count: 25\n",
      "count: 30\n",
      "count: 35\n",
      "count: 40\n",
      "count: 45\n",
      "count: 50\n",
      "count: 55\n",
      "count: 60\n",
      "count: 65\n",
      "count: 70\n"
     ]
    }
   ],
   "source": [
    "#Step 2: For each option contract, take their intrument unique id and get the mark IV and store it\n",
    "RATE_LIMIT = 5\n",
    "results = []\n",
    "count = 0\n",
    "\n",
    "for option in relevant_options:\n",
    "    if count % 5 == 0:\n",
    "        time.sleep(1)\n",
    "        print(f\"count: {count}\")\n",
    "    payloads = {\"instrument_id\": option['instrument_id']}\n",
    "    res = requests.get(f\"{EXCHANGE_URL}{ORDER_BOOK_END_POINT}\",params=payloads)\n",
    "    \n",
    "    strike_price = option['strike']\n",
    "    option_type = option['option_type']\n",
    "    mark_iv = res.json()['result']['mark_iv']\n",
    "    \n",
    "    results.append([option_type, strike_price, mark_iv])\n",
    "    count += 1"
   ]
  },
  {
   "cell_type": "code",
   "execution_count": null,
   "id": "ad4734ba",
   "metadata": {},
   "outputs": [],
   "source": [
    "# Step 3: Take those calls and puts and sorted by strike price and fit a quadratic curve on the mark IV"
   ]
  },
  {
   "cell_type": "code",
   "execution_count": 85,
   "id": "4c8373c9",
   "metadata": {},
   "outputs": [],
   "source": [
    "calls = [i for i in results if i[0] == 'call']\n",
    "calls = sorted(calls,key=lambda l:l[1], reverse=False)\n",
    "puts = [i for i in results if i[0] == 'put']\n",
    "puts = sorted(puts,key=lambda l:l[1], reverse=False)"
   ]
  },
  {
   "cell_type": "code",
   "execution_count": 86,
   "id": "f0b71824",
   "metadata": {},
   "outputs": [],
   "source": [
    "calls_x = [call[1] for call in calls]\n",
    "calls_y = [call[2] for call in calls]\n",
    "puts_x = [put[1] for put in puts]\n",
    "puts_y = [put[2] for put in puts]\n"
   ]
  },
  {
   "cell_type": "code",
   "execution_count": 87,
   "id": "d001cd37",
   "metadata": {},
   "outputs": [
    {
     "data": {
      "text/plain": [
       "<matplotlib.collections.PathCollection at 0x1f820edbf10>"
      ]
     },
     "execution_count": 87,
     "metadata": {},
     "output_type": "execute_result"
    },
    {
     "data": {
      "image/png": "[encoded data removed]",
      "text/plain": [
       "<Figure size 432x288 with 1 Axes>"
      ]
     },
     "metadata": {
      "needs_background": "light"
     },
     "output_type": "display_data"
    }
   ],
   "source": [
    "model = np.poly1d(np.polyfit(calls_x,calls_y, 2))\n",
    "plt.plot(calls_x, model(calls_x),color='g')\n",
    "plt.scatter(calls_x, calls_y)"
   ]
  },
  {
   "cell_type": "code",
   "execution_count": 88,
   "id": "da586e79",
   "metadata": {},
   "outputs": [
    {
     "name": "stdout",
     "output_type": "stream",
     "text": [
      "Equation:             2\n",
      "-4.434e-10 x + 0.0004082 x + 72.95\n",
      "R-Square: 0.3548286298829062\n"
     ]
    }
   ],
   "source": [
    "print(f\"Equation: {model}\")\n",
    "print(f\"R-Square: {r2_score(calls_y, model(calls_x))}\")"
   ]
  },
  {
   "cell_type": "code",
   "execution_count": 89,
   "id": "49ecdadd",
   "metadata": {},
   "outputs": [
    {
     "data": {
      "text/plain": [
       "<matplotlib.collections.PathCollection at 0x1f820f51250>"
      ]
     },
     "execution_count": 89,
     "metadata": {},
     "output_type": "execute_result"
    },
    {
     "data": {
      "image/png": "[encoded data removed]",
      "text/plain": [
       "<Figure size 432x288 with 1 Axes>"
      ]
     },
     "metadata": {
      "needs_background": "light"
     },
     "output_type": "display_data"
    }
   ],
   "source": [
    "model = np.poly1d(np.polyfit(puts_x,puts_y, 2))\n",
    "plt.plot(puts_x, model(puts_x),color='r')\n",
    "plt.scatter(puts_x, puts_y)"
   ]
  },
  {
   "cell_type": "code",
   "execution_count": 90,
   "id": "fc1579f9",
   "metadata": {},
   "outputs": [
    {
     "name": "stdout",
     "output_type": "stream",
     "text": [
      "Equation:             2\n",
      "-4.431e-10 x + 0.0004081 x + 72.96\n",
      "R-Square: 0.3547887117392535\n"
     ]
    }
   ],
   "source": [
    "print(f\"Equation: {model}\")\n",
    "print(f\"R-Square: {r2_score(puts_y, model(puts_x))}\")"
   ]
  },
  {
   "cell_type": "code",
   "execution_count": 107,
   "id": "0ebe9d86",
   "metadata": {},
   "outputs": [],
   "source": [
    "# Step 3.1: Excluding data point from very high strike price for the sake of better r-square"
   ]
  },
  {
   "cell_type": "code",
   "execution_count": 128,
   "id": "2b08784d",
   "metadata": {},
   "outputs": [
    {
     "name": "stdout",
     "output_type": "stream",
     "text": [
      "Equation:            2\n",
      "1.229e-07 x - 0.009554 x + 250.4\n",
      "R-Square: 0.8752664401795751\n"
     ]
    },
    {
     "data": {
      "image/png": "[encoded data removed]",
      "text/plain": [
       "<Figure size 432x288 with 1 Axes>"
      ]
     },
     "metadata": {
      "needs_background": "light"
     },
     "output_type": "display_data"
    }
   ],
   "source": [
    "calls = [i for i in results if i[0] == 'call']\n",
    "calls = sorted(calls,key=lambda l:l[1], reverse=False)\n",
    "\n",
    "calls_x = [call[1] for call in calls if call[1] <= 60000]\n",
    "calls_y = [call[2] for call in calls if call[1] <= 60000]\n",
    "\n",
    "model = np.poly1d(np.polyfit(calls_x,calls_y, 2))\n",
    "plt.plot(calls_x, model(calls_x),color='g')\n",
    "plt.scatter(calls_x, calls_y)\n",
    "\n",
    "print(f\"Equation: {model}\")\n",
    "print(f\"R-Square: {r2_score(calls_y, model(calls_x))}\")\n"
   ]
  },
  {
   "cell_type": "code",
   "execution_count": 130,
   "id": "9002efdc",
   "metadata": {},
   "outputs": [
    {
     "name": "stdout",
     "output_type": "stream",
     "text": [
      "Equation:            2\n",
      "1.229e-07 x - 0.009554 x + 250.4\n",
      "R-Square: 0.8752847518884187\n"
     ]
    },
    {
     "data": {
      "image/png": "[encoded data removed]",
      "text/plain": [
       "<Figure size 432x288 with 1 Axes>"
      ]
     },
     "metadata": {
      "needs_background": "light"
     },
     "output_type": "display_data"
    }
   ],
   "source": [
    "puts = [i for i in results if i[0] == 'put']\n",
    "puts = sorted(puts,key=lambda l:l[1], reverse=False)\n",
    "\n",
    "puts_x = [put[1] for put in puts if put[1] <= 60000]\n",
    "puts_y = [put[2] for put in puts if put[1] <= 60000]\n",
    "\n",
    "model = np.poly1d(np.polyfit(puts_x,puts_y, 2))\n",
    "plt.plot(puts_x, model(puts_x),color='r')\n",
    "plt.scatter(puts_x, puts_y)\n",
    "\n",
    "print(f\"Equation: {model}\")\n",
    "print(f\"R-Square: {r2_score(puts_y, model(puts_x))}\")"
   ]
  },
  {
   "cell_type": "code",
   "execution_count": 131,
   "id": "bbbafa02",
   "metadata": {},
   "outputs": [
    {
     "name": "stdout",
     "output_type": "stream",
     "text": [
      "Collecting schedule\n",
      "  Downloading schedule-1.1.0-py2.py3-none-any.whl (10 kB)\n",
      "Installing collected packages: schedule\n",
      "Successfully installed schedule-1.1.0\n"
     ]
    },
    {
     "name": "stderr",
     "output_type": "stream",
     "text": [
      "WARNING: There was an error checking the latest version of pip.\n"
     ]
    }
   ],
   "source": [
    "!pip install schedule"
   ]
  },
  {
   "cell_type": "code",
   "execution_count": null,
   "id": "ceeb6517",
   "metadata": {},
   "outputs": [],
   "source": []
  }
 ],
 "metadata": {
  "kernelspec": {
   "display_name": "Python 3 (ipykernel)",
   "language": "python",
   "name": "python3"
  },
  "language_info": {
   "codemirror_mode": {
    "name": "ipython",
    "version": 3
   },
   "file_extension": ".py",
   "mimetype": "text/x-python",
   "name": "python",
   "nbconvert_exporter": "python",
   "pygments_lexer": "ipython3",
   "version": "3.9.12"
  }
 },
 "nbformat": 4,
 "nbformat_minor": 5
}
